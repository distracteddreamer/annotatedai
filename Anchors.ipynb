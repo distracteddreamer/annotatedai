{
 "cells": [
  {
   "cell_type": "markdown",
   "metadata": {},
   "source": [
    "# The original motivation behind anchor boxes\n",
    "\n",
    "[W]e introduce novel “anchor” boxes that serve as references at multiple scales and aspect ratios.\n",
    "\n",
    "Our design of anchors presents a novel scheme\n",
    "for addressing multiple scales (and aspect ratios). As shown in Figure 1, there have been two popular ways for multi-scale predictions. The first way is based on image/feature pyramids, e.g., in DPM [8] and CNN- based methods [9], [1], [2]. The images are resized at multiple scales, and feature maps (HOG [8] or deep convolutional features [9], [1], [2]) are computed for each scale (Figure 1(a)). This way is often useful but is time-consuming. The second way is to use sliding windows of multiple scales (and/or aspect ratios) on the feature maps. For example, in DPM [8], models of different aspect ratios are trained separately using different filter sizes (such as 5×7 and 7×5). If this way is used to address multiple scales, it can be thought of as a “pyramid of filters” (Figure 1(b)). The second way is usually adopted jointly with the first way [8].\n",
    "\n",
    "As a comparison, our anchor-based method is built\n",
    "on a pyramid of anchors, which is more cost-efficient. Our method classifies and regresses bounding boxes with reference to anchor boxes of multiple scales and aspect ratios. It only relies on images and feature maps of a single scale, and uses filters (sliding win- dows on the feature map) of a single size. We show by experiments the effects of this scheme for addressing multiple scales and sizes (Table 8). \n",
    "\n",
    "Because of this multi-scale design based on anchors,\n",
    "we can simply use the convolutional features com- puted on a single-scale image, as is also done by the Fast R-CNN detector [2]. The design of multi- scale anchors is a key component for sharing features without extra cost for addressing scales.\n",
    "\n",
    "[TODO: Add the sizes/scales used in original]"
   ]
  },
  {
   "cell_type": "code",
   "execution_count": 1,
   "metadata": {},
   "outputs": [],
   "source": [
    "import numpy as np\n",
    "import matplotlib.pyplot as plt\n",
    "import matplotlib.patches as mpatches\n",
    "%matplotlib inline"
   ]
  },
  {
   "cell_type": "markdown",
   "metadata": {},
   "source": [
    "> An anchor box is essentially a starting point that the network learns to transform into a bounding box for an object. "
   ]
  },
  {
   "cell_type": "code",
   "execution_count": 22,
   "metadata": {},
   "outputs": [],
   "source": [
    "#[TODO: example with real imagee]"
   ]
  },
  {
   "cell_type": "markdown",
   "metadata": {},
   "source": [
    "An anchor is centered at the sliding window in question, and is associated with a scale and aspect ratio (Figure 3, left). By default we use 3 scales and 3 aspect ratios, yielding k = 9 anchors at each sliding position.\n",
    "\n",
    "> Each pixel in the input feature map corresponds to an anchor box. Here we will adapt FaceBook's MRCNN benchmark anchor generation code. First we define a single `anchor` with dimensions $[x_1, y_1, x_2, y_2] = [0, 0, s-1, s-1]$, where $s$ is the stride of the feature map with respect to the input."
   ]
  },
  {
   "cell_type": "code",
   "execution_count": 2,
   "metadata": {},
   "outputs": [],
   "source": [
    "def generate_anchors(\n",
    "    stride=16, sizes=(32, 64, 128, 256, 512), aspect_ratios=(0.5, 1, 2)\n",
    "):\n",
    "    \n",
    "    sizes = np.array(sizes)\n",
    "    aspect_ratios = np.array(aspect_ratios)\n",
    "    \n",
    "    base_anchor = anchor = np.array([1, 1, stride, stride], dtype=np.float) - 1 # (1,)\n",
    "    w, h, x_ctr, y_ctr =  to_whxy(base_anchor) # (1,)\n",
    "    base_area = w * h\n",
    "    \n",
    "    widths = np.round(np.sqrt(base_area / aspect_ratios)) # (A,)\n",
    "    heights = np.round(widths * aspect_ratios) # (A,)\n",
    "    \n",
    "    scales = sizes / stride\n",
    "    widths = scales[None] * widths[:, None] # (A, S)\n",
    "    heights = scales[None] * heights[:, None]  # (A, S)\n",
    "    \n",
    "    # Each is (A, S)\n",
    "    x1 = x_ctr - 0.5 * (widths - 1)\n",
    "    y1 = y_ctr - 0.5 * (heights - 1)\n",
    "    x2 = x_ctr + 0.5 * (widths - 1)\n",
    "    y2 = y_ctr + 0.5 * (heights - 1)\n",
    "    \n",
    "    anchors = np.stack([x1, y1, x2, y2], axis=-1) #(A, S, 4)\n",
    "    \n",
    "    return np.reshape(anchors, [-1, 4]) # (A*S, 4)"
   ]
  },
  {
   "cell_type": "markdown",
   "metadata": {},
   "source": [
    "> A function to convert from $[x_1, y_1, x_2, y_2]$ to $[w, h, x_\\text{centre}, y_\\text{centre}]$. Note that $x_2$ and $y_2$ are *inside* the box so we need to add 1 to get the dimensions."
   ]
  },
  {
   "cell_type": "code",
   "execution_count": 3,
   "metadata": {},
   "outputs": [],
   "source": [
    "def to_whxy(anchor):\n",
    "    # [..., 4]\n",
    "    \"\"\"Return width, height, x center, and y center for an anchor (window).\"\"\"\n",
    "    w = anchor[..., 2] - anchor[..., 0] + 1\n",
    "    h = anchor[..., 3] - anchor[..., 1] + 1\n",
    "    x_ctr = anchor[..., 0] + 0.5 * (w - 1)\n",
    "    y_ctr = anchor[..., 1] + 0.5 * (h - 1)\n",
    "    return w, h, x_ctr, y_ctr # [...]\n"
   ]
  },
  {
   "cell_type": "code",
   "execution_count": 4,
   "metadata": {},
   "outputs": [],
   "source": [
    "def plot_rectangle(box, ax=None):\n",
    "    x1, y1, x2, y2 = box\n",
    "    w, h, xc, yc = to_whxy(box)\n",
    "    # -1 because box is plotted between x1 to x1 + w when we want x1 to x1 + w - 1\n",
    "    ax.add_artist(plt.Rectangle(xy=(x1, y1), height=h-1, width=w-1, fill=False, color='b'))\n",
    "    ax.plot(xc, yc, 'x')\n",
    "    for x in [x1, x2]:\n",
    "        for y in [y1, y2]:\n",
    "            ax.plot(x, y, '.')\n",
    "    ax.invert_yaxis();"
   ]
  },
  {
   "cell_type": "code",
   "execution_count": 5,
   "metadata": {},
   "outputs": [
    {
     "data": {
      "text/plain": [
       "(array([ 46.,  92., 184., 368., 736.,  32.,  64., 128., 256., 512.,  22.,\n",
       "         44.,  88., 176., 352.]),\n",
       " array([ 24.,  48.,  96., 192., 384.,  32.,  64., 128., 256., 512.,  44.,\n",
       "         88., 176., 352., 704.]),\n",
       " array([7.5, 7.5, 7.5, 7.5, 7.5, 7.5, 7.5, 7.5, 7.5, 7.5, 7.5, 7.5, 7.5,\n",
       "        7.5, 7.5]),\n",
       " array([7.5, 7.5, 7.5, 7.5, 7.5, 7.5, 7.5, 7.5, 7.5, 7.5, 7.5, 7.5, 7.5,\n",
       "        7.5, 7.5]))"
      ]
     },
     "execution_count": 5,
     "metadata": {},
     "output_type": "execute_result"
    }
   ],
   "source": [
    "anchors = generate_anchors()\n",
    "to_whxy(anchors)"
   ]
  },
  {
   "cell_type": "code",
   "execution_count": 6,
   "metadata": {},
   "outputs": [
    {
     "data": {
      "image/png": "[encoded data removed]",
      "text/plain": [
       "<Figure size 576x576 with 1 Axes>"
      ]
     },
     "metadata": {
      "needs_background": "light"
     },
     "output_type": "display_data"
    }
   ],
   "source": [
    "fig, ax = plt.subplots(1, figsize=(8,8))\n",
    "\n",
    "for box in anchors:\n",
    "    plot_rectangle(box, ax);\n",
    "    plt.xlim(-400, 400)\n",
    "    plt.ylim(-400, 400);"
   ]
  },
  {
   "cell_type": "markdown",
   "metadata": {},
   "source": [
    "> A grid of anchors is constructed by shifting the these anchor boxes across the feature map with a shift per pixel of the stride $s$. \n"
   ]
  },
  {
   "cell_type": "code",
   "execution_count": 17,
   "metadata": {},
   "outputs": [],
   "source": [
    "def grid_anchors(base_anchors, stride, height, width):\n",
    "    shifts_x = np.arange(0, stride, width) # (W,)\n",
    "    shifts_y = np.arange(0, stride, height) # (H,)\n",
    "    \n",
    "    # Indexing is 'xy' by default but 'ij' in pytorch \n",
    "    # (so they reverse these in the mrcnn benchmark code)\n",
    "    shifts_x, shifts_y = np.meshgrid(shifts_x, shifts_y) \n",
    "    \n",
    "    shifts = np.stack([shifts_x, shifts_y, shifts_x, shifts_y], axis=-1) # (H, W, 4)\n",
    "    \n",
    "    # (H, W, 1, 4) + (1, 1, N, 4) -> (H, W, N, 4)\n",
    "    anchors = shifts[..., None, :] + base_anchors[None, None]\n",
    "    return anchors"
   ]
  },
  {
   "cell_type": "markdown",
   "metadata": {},
   "source": [
    " > Brief refresher on meshgrid as this can be somewhat confusing. Note that whilse`xx` corresponds to the familiar form where $x$ is from left to right and $y$ is reversed. "
   ]
  },
  {
   "cell_type": "code",
   "execution_count": 18,
   "metadata": {},
   "outputs": [
    {
     "data": {
      "text/plain": [
       "array([[0, 1, 2, 3, 4],\n",
       "       [0, 1, 2, 3, 4],\n",
       "       [0, 1, 2, 3, 4],\n",
       "       [0, 1, 2, 3, 4],\n",
       "       [0, 1, 2, 3, 4],\n",
       "       [0, 1, 2, 3, 4],\n",
       "       [0, 1, 2, 3, 4]])"
      ]
     },
     "execution_count": 18,
     "metadata": {},
     "output_type": "execute_result"
    }
   ],
   "source": [
    "xx, yy = np.meshgrid(np.arange(5), np.arange(7))\n",
    "xx"
   ]
  },
  {
   "cell_type": "code",
   "execution_count": 19,
   "metadata": {},
   "outputs": [
    {
     "data": {
      "text/plain": [
       "array([[0, 0, 0, 0, 0],\n",
       "       [1, 1, 1, 1, 1],\n",
       "       [2, 2, 2, 2, 2],\n",
       "       [3, 3, 3, 3, 3],\n",
       "       [4, 4, 4, 4, 4],\n",
       "       [5, 5, 5, 5, 5],\n",
       "       [6, 6, 6, 6, 6]])"
      ]
     },
     "execution_count": 19,
     "metadata": {},
     "output_type": "execute_result"
    }
   ],
   "source": [
    "yy"
   ]
  },
  {
   "cell_type": "markdown",
   "metadata": {},
   "source": [
    "> Remember also that *columns* map to $x$ and *rows* map to $y$. So to crop box $[x_1, y_1, x_2, y_2]$ from a feature map we reverse the order for slicing. Also recall that we are using the convention where $x_2$ and $y_2$ are inside the box so we slice up to $x_2 + 1$ and $y_2 + 1$."
   ]
  },
  {
   "cell_type": "code",
   "execution_count": 21,
   "metadata": {},
   "outputs": [],
   "source": [
    "def crop_box(img, box):\n",
    "    x1, y1, x2, y2 = box\n",
    "    return img[y1:y2+1, x1:x2+1]"
   ]
  },
  {
   "cell_type": "code",
   "execution_count": null,
   "metadata": {},
   "outputs": [],
   "source": [
    "img = np."
   ]
  },
  {
   "cell_type": "markdown",
   "metadata": {},
   "source": [
    "We adapt RPN by replacing the single-scale feature map\n",
    "with our FPN. We attach a head of the same design (3×3 conv and two sibling 1×1 convs) to each level on our feature pyramid. Because the head slides densely over all locations in all pyramid levels, it is not necessary to have multi-scale anchors on a specific level. Instead, we assign anchors of a single scale to each level. Formally, we define the an- chors to have areas of {322, 642, 1282, 2562, 5122} pixels on {P2, P3, P4, P5, P6} respectively.1 As in [29] we also use anchors of multiple aspect ratios {1:2, 1:1, 2:1} at each level."
   ]
  },
  {
   "cell_type": "markdown",
   "metadata": {},
   "source": [
    "> The step of assigning anchor boxes to a feature map involves constructing a grid of boxes corresponding to each pixel in the feature map. The anchor centres are shifted across the feature map where the shift per pixel corresponds to the stride of the feature map relative to the input. Each successively smaller feature map has a coarser grid of anchor boxes but also has a larger receptive field. It helps to think of the downscaled feature map as a coarse grid across the image."
   ]
  },
  {
   "cell_type": "code",
   "execution_count": 61,
   "metadata": {},
   "outputs": [],
   "source": [
    "def plot_dot_grid(ax, n, stride=1):\n",
    "    x = np.arange(0, n, stride)\n",
    "    x, y = np.meshgrid(x, x)\n",
    "    ax.plot(x.ravel(), y.ravel(), '.')"
   ]
  },
  {
   "cell_type": "markdown",
   "metadata": {},
   "source": [
    "> Grids that are succesively smaller ..."
   ]
  },
  {
   "cell_type": "code",
   "execution_count": 70,
   "metadata": {},
   "outputs": [
    {
     "data": {
      "image/png": "[encoded data removed]",
      "text/plain": [
       "<Figure size 2016x432 with 4 Axes>"
      ]
     },
     "metadata": {
      "needs_background": "light"
     },
     "output_type": "display_data"
    }
   ],
   "source": [
    "fig, axes = plt.subplots(1, 4, figsize=(28, 6))\n",
    "for i, ax in enumerate(axes):\n",
    "    plot_dot_grid(ax, 32//(2**i), 1)\n",
    "    ax.set_xlim(-1, 33)\n",
    "    ax.set_ylim(-1, 33)\n",
    "    ax.axis('off')"
   ]
  },
  {
   "cell_type": "markdown",
   "metadata": {},
   "source": [
    "> ... can be viewed as successively coarser grids"
   ]
  },
  {
   "cell_type": "code",
   "execution_count": 72,
   "metadata": {},
   "outputs": [
    {
     "data": {
      "image/png": "[encoded data removed]",
      "text/plain": [
       "<Figure size 2016x432 with 4 Axes>"
      ]
     },
     "metadata": {
      "needs_background": "light"
     },
     "output_type": "display_data"
    }
   ],
   "source": [
    "fig, axes = plt.subplots(1, 4, figsize=(28, 6))\n",
    "for i, ax in enumerate(axes):\n",
    "    plot_dot_grid(ax, 32, (2**i))\n",
    "    ax.axis('off')"
   ]
  },
  {
   "cell_type": "code",
   "execution_count": 74,
   "metadata": {},
   "outputs": [],
   "source": [
    "def pyramid_anchors(strides, sizes, aspect_ratios):\n",
    "    if len(strides) != len(sizes):\n",
    "        raise ValueError('For FPN number of strides and sizes must be the same')\n",
    "    anchors = [generate_anchors(stride, size, aspect_rations) for stride, size in zip(strides, sizes)]\n",
    "    return anchors"
   ]
  },
  {
   "cell_type": "code",
   "execution_count": null,
   "metadata": {},
   "outputs": [],
   "source": []
  }
 ],
 "metadata": {
  "kernelspec": {
   "display_name": "Python 3",
   "language": "python",
   "name": "python3"
  },
  "language_info": {
   "codemirror_mode": {
    "name": "ipython",
    "version": 3
   },
   "file_extension": ".py",
   "mimetype": "text/x-python",
   "name": "python",
   "nbconvert_exporter": "python",
   "pygments_lexer": "ipython3",
   "version": "3.7.3"
  }
 },
 "nbformat": 4,
 "nbformat_minor": 2
}
